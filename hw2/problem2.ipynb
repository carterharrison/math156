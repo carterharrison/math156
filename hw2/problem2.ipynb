{
 "cells": [
  {
   "cell_type": "code",
   "execution_count": 16,
   "id": "f26cc20a-4f93-4d50-abeb-ee7f6281cfa4",
   "metadata": {},
   "outputs": [],
   "source": [
    "import random\n",
    "import math\n",
    "import numpy as np\n",
    "import matplotlib.pyplot as plt\n",
    "import sklearn.cluster as sk\n",
    "import time\n",
    "\n",
    "import warnings\n",
    "warnings.filterwarnings('ignore')"
   ]
  },
  {
   "cell_type": "code",
   "execution_count": 17,
   "id": "b04d4ad5",
   "metadata": {},
   "outputs": [],
   "source": [
    "def display_clusters(clusters):\n",
    "    colors = plt.get_cmap('Accent')(np.linspace(0, 1, len(clusters)))\n",
    "    for (cluster_center, cluster), color in zip(clusters.items(), colors):\n",
    "        plt.scatter(*zip(*cluster), s=10, color=color)\n",
    "    plt.show()\n",
    "    \n",
    "class KMeans:\n",
    "    converged = False\n",
    "    clusters = set()\n",
    "    clusters_i = set()\n",
    "    \n",
    "    def compute_clusters(self, X, cluster_centers):\n",
    "        dataset, cluster_centers = np.array(X), np.array(cluster_centers)\n",
    "\n",
    "        diff = X - np.repeat(cluster_centers[:,np.newaxis,:], len(X), axis=1)\n",
    "        norms = np.linalg.norm(diff,axis=2)    \n",
    "        mins = cluster_centers[np.argmin(norms,axis=0)]\n",
    "\n",
    "        clusters = {}\n",
    "        clusters_i = {}\n",
    "\n",
    "        for center in cluster_centers:\n",
    "            clusters[tuple(center)] = set()\n",
    "            clusters_i[tuple(center)] = []\n",
    "\n",
    "        i = 0\n",
    "        for x, cc in zip(X, mins):\n",
    "            clusters[tuple(cc)].add(tuple(x))\n",
    "            clusters_i[tuple(cc)].append(i)\n",
    "            i += 1\n",
    "\n",
    "        return clusters, clusters_i\n",
    "        \n",
    "    def __init__(self, dataset, num_clusters, max_iter = 300):\n",
    "        np.random.seed(int(time.time()))\n",
    "        cc = np.array(dataset)[np.random.choice(len(dataset), size=num_clusters, replace=False)]\n",
    "#         cc = [np.array(dataset)[0], np.array(dataset)[1], np.array(dataset)[2]]\n",
    "        self.clusters, self.clusters_i = self.compute_clusters(dataset, cc)\n",
    "        \n",
    "        for i in range(max_iter):\n",
    "            cc = [np.mean(list(cluster), axis=0) for cluster in self.clusters.values()]\n",
    "            \n",
    "            new_clusters, self.clusters_i = self.compute_clusters(dataset, cc)\n",
    "            \n",
    "            if new_clusters == self.clusters:\n",
    "                self.converged = True\n",
    "                break\n",
    "                \n",
    "            self.clusters = new_clusters"
   ]
  },
  {
   "cell_type": "code",
   "execution_count": 18,
   "id": "23528366-8d3a-465c-ab0d-ac9715b4b5a7",
   "metadata": {},
   "outputs": [],
   "source": [
    "class SpectralClustering:    \n",
    "    def __init__(self, data, n_clusters, n_neighbors):\n",
    "        self.data = data\n",
    "        self.n_clusters = n_clusters\n",
    "        self.n_neighbors = n_neighbors\n",
    "        \n",
    "    def get_distance_matrix(self):\n",
    "        diff_squared = (self.data[:, np.newaxis, :] - self.data[np.newaxis, :, :]) ** 2\n",
    "        squared_distances = diff_squared.sum(axis=2)\n",
    "        distance_matrix = np.sqrt(squared_distances)\n",
    "        return distance_matrix\n",
    "        \n",
    "    def get_k_nearest(self):\n",
    "        distance_matrix = self.get_distance_matrix()\n",
    "        k_nearest = np.zeros_like(distance_matrix)\n",
    "        k = self.n_neighbors\n",
    "        \n",
    "        for i in range(distance_matrix.shape[0]):\n",
    "            closest_indices = np.argpartition(distance_matrix[i], k+1)[:k+1]\n",
    "            closest_indices = closest_indices[closest_indices != i][:k]\n",
    "\n",
    "            for j in closest_indices:                \n",
    "                k_nearest[i, j] = 1\n",
    "        \n",
    "        return k_nearest\n",
    "    \n",
    "    def get_degree_matrix(self, sim):\n",
    "        degrees = np.zeros_like(sim)\n",
    "        \n",
    "        for i in range(sim.shape[0]):\n",
    "            degrees[i,i] = np.count_nonzero(sim[i,:])\n",
    "            \n",
    "        return degrees\n",
    "    \n",
    "    def get_laplacian_matrix(self):\n",
    "        sim = self.get_k_nearest()\n",
    "        \n",
    "        degree_matrix = self.get_degree_matrix(sim)\n",
    "\n",
    "        laplacian = degree_matrix - sim\n",
    "        return laplacian\n",
    "    \n",
    "    def get_u(self):\n",
    "        k = self.n_neighbors\n",
    "        laplacian = self.get_laplacian_matrix()\n",
    "        \n",
    "        eigenvalues, eigenvectors = np.linalg.eig(laplacian)\n",
    "    \n",
    "        idx = eigenvalues.argsort()\n",
    "        sorted_eigenvectors = eigenvectors[:, idx]\n",
    "\n",
    "        u = sorted_eigenvectors[:, :k]\n",
    "    \n",
    "        return u\n",
    "        \n",
    "    \n",
    "    def run_k_means(self):\n",
    "        u = self.get_u()\n",
    "\n",
    "        kmeans = KMeans(u, self.n_clusters)\n",
    "        \n",
    "        clusters = kmeans.clusters_i\n",
    "        \n",
    "        for i, cc in enumerate(list(clusters.keys())):\n",
    "            new_points = []\n",
    "            for idx in clusters[cc]:\n",
    "                new_points.append(data[idx])\n",
    "            clusters[cc] = np.array(new_points)\n",
    "\n",
    "        return clusters\n",
    "               "
   ]
  },
  {
   "cell_type": "code",
   "execution_count": 264,
   "id": "4646e9e7",
   "metadata": {},
   "outputs": [
    {
     "data": {
      "image/png": "[encoded data removed]",
      "text/plain": [
       "<Figure size 640x480 with 1 Axes>"
      ]
     },
     "metadata": {},
     "output_type": "display_data"
    }
   ],
   "source": [
    "# Very Simple Exampe\n",
    "num_points_in_each_cluster = 100\n",
    "point_dim = 2\n",
    "a = (np.random.rand(num_points_in_each_cluster, point_dim) * 10) - 20\n",
    "b = (np.random.rand(num_points_in_each_cluster, point_dim) * 10) + 0\n",
    "test_data = np.concatenate((a, b), axis=0)\n",
    "\n",
    "\n",
    "\n",
    "data = test_data\n",
    "sc = SpectralClustering(data, 2, 4)\n",
    "clusters = sc.run_k_means()\n",
    "\n",
    "\n",
    "display_clusters(clusters)"
   ]
  },
  {
   "cell_type": "code",
   "execution_count": 266,
   "id": "8ed05873",
   "metadata": {
    "scrolled": false
   },
   "outputs": [
    {
     "data": {
      "image/png": "[encoded data removed]",
      "text/plain": [
       "<Figure size 640x480 with 1 Axes>"
      ]
     },
     "metadata": {},
     "output_type": "display_data"
    }
   ],
   "source": [
    "# Example from class where KMeans failed\n",
    "circle = lambda x, y, stddev, radius, n_samples: [\n",
    "    (\n",
    "        x + radius * math.cos(2 * math.pi * i / n_samples) + np.random.normal(0, stddev),\n",
    "        y + radius * math.sin(2 * math.pi * i / n_samples) + np.random.normal(0, stddev)\n",
    "    )\n",
    "    for i in range(n_samples)\n",
    "]\n",
    "\n",
    "circles_dataset = sum((circle(0, 0, 0.1, radius, 100) for radius in [1, 3, 5]), start=[])\n",
    "\n",
    "data = np.array(circles_dataset)\n",
    "\n",
    "sc = SpectralClustering(data, 3, 4)\n",
    "clusters = sc.run_k_means()\n",
    "\n",
    "\n",
    "display_clusters(clusters)"
   ]
  },
  {
   "cell_type": "code",
   "execution_count": 20,
   "id": "7fbba145",
   "metadata": {},
   "outputs": [
    {
     "name": "stdout",
     "output_type": "stream",
     "text": [
      "Our implementation took 0.0797 seconds per KMeans cluster fit\n",
      "SKLearn implementation took 0.0426 seconds per KMeans cluster fit\n",
      "Thus, the SKLearn implementation is 1.8719x faster than ours\n"
     ]
    }
   ],
   "source": [
    "\"\"\"\n",
    "Benchmark Compared to SKLearn\n",
    "\"\"\"\n",
    "import time\n",
    "from sklearn.cluster import SpectralClustering as SkSpectralClustering\n",
    "\n",
    "\n",
    "num_times_to_run = 100\n",
    "\n",
    "start_time = time.time()\n",
    "for _ in range(num_times_to_run):\n",
    "    sc = SpectralClustering(data, 3, 4)\n",
    "    clusters = sc.run_k_means()\n",
    "    \n",
    "end_time = time.time()\n",
    "our_duration = (end_time - start_time) / num_times_to_run\n",
    "\n",
    "print(f\"Our implementation took {round(our_duration, 4)} seconds per KMeans cluster fit\")\n",
    "\n",
    "X = np.array([list(t) for t in data])\n",
    "start_time = time.time()\n",
    "for _ in range(num_times_to_run):\n",
    "    spectral = SkSpectralClustering(n_clusters=3, affinity='nearest_neighbors', n_neighbors=4)\n",
    "    spectral.fit(X)\n",
    "\n",
    "end_time = time.time()\n",
    "their_duration = (end_time - start_time) / num_times_to_run\n",
    "\n",
    "print(f\"SKLearn implementation took {round(their_duration, 4)} seconds per KMeans cluster fit\")\n",
    "print(f\"Thus, the SKLearn implementation is {round((our_duration)/their_duration, 4)}x faster than ours\")"
   ]
  }
 ],
 "metadata": {
  "kernelspec": {
   "display_name": "Python 3 (ipykernel)",
   "language": "python",
   "name": "python3"
  },
  "language_info": {
   "codemirror_mode": {
    "name": "ipython",
    "version": 3
   },
   "file_extension": ".py",
   "mimetype": "text/x-python",
   "name": "python",
   "nbconvert_exporter": "python",
   "pygments_lexer": "ipython3",
   "version": "3.9.6"
  }
 },
 "nbformat": 4,
 "nbformat_minor": 5
}
