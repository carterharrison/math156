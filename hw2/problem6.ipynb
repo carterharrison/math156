{
 "cells": [
  {
   "cell_type": "code",
   "execution_count": 2,
   "metadata": {},
   "outputs": [],
   "source": [
    "## Run this cell to import the necessary libaries\n",
    "import numpy as np\n",
    "from scipy.special import softmax\n",
    "import matplotlib.pyplot as plt"
   ]
  },
  {
   "cell_type": "markdown",
   "metadata": {},
   "source": [
    "We are going to classify the iris dataset, RUN THE NEXT CELL WITHOUT MODIFICATIONS"
   ]
  },
  {
   "cell_type": "code",
   "execution_count": 42,
   "metadata": {},
   "outputs": [],
   "source": [
    "### Loading and preprocessing the data, don't change\n",
    "\n",
    "\n",
    "from sklearn.datasets import load_iris\n",
    "\n",
    "iris = load_iris()\n",
    "\n",
    "X = iris.data\n",
    "y = iris.target\n",
    "names = iris['target_names']\n",
    "feature_names = iris['feature_names']\n",
    "\n",
    "from sklearn.model_selection import train_test_split\n",
    "from sklearn.preprocessing import OneHotEncoder, StandardScaler\n",
    "\n",
    "# One hot encoding\n",
    "enc = OneHotEncoder()\n",
    "Y = enc.fit_transform(y[:, np.newaxis]).toarray()\n",
    "\n",
    "# Scale data to have mean 0 and variance 1 \n",
    "scaler = StandardScaler()\n",
    "X_scaled = scaler.fit_transform(X)\n",
    "\n",
    "# Split the data set into training and testing\n",
    "X_train, X_test, Y_train, Y_test = train_test_split(\n",
    "    X_scaled, Y, test_size=0.2, random_state=0)\n",
    "\n",
    "X_train = X_train.T\n",
    "X_test = X_test.T\n",
    "Y_train = Y_train.T\n",
    "Y_test = Y_test.T"
   ]
  },
  {
   "cell_type": "markdown",
   "metadata": {},
   "source": [
    "COMPLETE THE CODE IN THE FOLLOWING CELL, THEN RUN IT"
   ]
  },
  {
   "cell_type": "code",
   "execution_count": 120,
   "metadata": {},
   "outputs": [],
   "source": [
    "####COMPLETE THE FOLLOWING TWO FUNCTIONS\n",
    "def Gradient(W, X_batch, t_batch):\n",
    "    ### Complete this function to calculate the gradient of the cross entropy loss\n",
    "    Y = softmax(W @ X_batch, axis = 0) #this is our model for the prediction \n",
    "\n",
    "    N = X_batch.shape[1] #number of points in batch\n",
    "    K = W.shape[0] #number of classes\n",
    "    M = W.shape[1] #number of features\n",
    "    \n",
    "    G = np.zeros((K, M)) #this will store the gradient, the dimensions are K: number of classes, M: number of features\n",
    "    \n",
    "    # calculate the gradient according to the formula in the exercises\n",
    "    for j in range(K):\n",
    "        diff_scaler = Y[j, :] - t_batch[j, :]\n",
    "        diff_scaler_reshaped = diff_scaler.reshape(-1, 1)\n",
    "        j_sum = np.dot(X_batch, diff_scaler_reshaped).flatten()\n",
    "\n",
    "        G[j] = j_sum / N\n",
    "           \n",
    "    return G\n",
    "\n",
    "def logisticGD(X_train, t_train, batch_size, l_rate = 0.1,tol = 1e-5, epochs = 10, plot_color=None, name=\"\"):\n",
    "    \"\"\" \n",
    "    batch_size = size of training set, correspond to GD\n",
    "    batch_size = 1, correspond to SGD\n",
    "    all other values correspond to mini batch GD.\n",
    "    \"\"\"\n",
    "    K = t_train.shape[0]\n",
    "    N = X_train.shape[1]\n",
    "    M = X_train.shape[0]\n",
    "    \n",
    "    W = np.random.rand(K, M) #initialization of the model parameters\n",
    "    \n",
    "    norm_G = float('inf')\n",
    "    \n",
    "    n_batches = N // batch_size\n",
    "\n",
    "    epoch = 1\n",
    "    \n",
    "    acc = []\n",
    "        \n",
    "    while epoch <= epochs and norm_G > tol:\n",
    "        #select a random permutation of N\n",
    "        indices = np.random.permutation(N)\n",
    "        #permute the training points according to the chosen permutation\n",
    "        X_shuffle = X_train[:,indices]\n",
    "        #permute the training points according to the chosen permutation\n",
    "        t_shuffle = t_train[:,indices]\n",
    "        \n",
    "        \n",
    "        for j in range(n_batches):\n",
    "            start = j*batch_size\n",
    "            end = (j+1)*batch_size\n",
    "            #select the batch by slicing between j * batch_size and (j+1)*batch_size in the shuffled data\n",
    "            X_batch = X_shuffle[:,start:end]\n",
    "            #select the batch classes by slicing between j * batch_size and (j+1)*batch_size in the shuffled data\n",
    "            t_batch = t_shuffle[:,start:end]\n",
    "            \n",
    "            #calculate the gradient of the loss in the batch\n",
    "            G = Gradient(W, X_batch, t_batch)\n",
    "                \n",
    "            #update the model parameters\n",
    "            # - we used step size gradient decent here\n",
    "            W = W - l_rate*G\n",
    "            norm_G = np.linalg.norm(W)\n",
    "            epoch += 1\n",
    "            \n",
    "            # For creating the plot\n",
    "            Y_train_pred = softmax(W @ (X_train))\n",
    "            train_predictions = np.argmax(Y_train_pred, axis=0)\n",
    "            train_true = np.argmax(Y_train, axis = 0)\n",
    "            train_accuracy = np.mean(train_predictions == train_true)\n",
    "            acc.append(train_accuracy)\n",
    "            \n",
    "    plt.plot(acc, color=plot_color, label=name)\n",
    "    plt.ylabel(\"Train Accuracy on test set\")\n",
    "    plt.xlabel(\"Epoch\")\n",
    "    plt.legend()\n",
    "    return W"
   ]
  },
  {
   "cell_type": "markdown",
   "metadata": {},
   "source": [
    "COMPLETE THE CODE IN THE FOLLOWING CELL, THEN RUN IT"
   ]
  },
  {
   "cell_type": "markdown",
   "metadata": {},
   "source": []
  },
  {
   "cell_type": "code",
   "execution_count": 153,
   "metadata": {},
   "outputs": [
    {
     "data": {
      "image/png": "[encoded data removed]",
      "text/plain": [
       "<Figure size 640x480 with 1 Axes>"
      ]
     },
     "metadata": {},
     "output_type": "display_data"
    }
   ],
   "source": [
    "### COMPLETETHE FOLLOWING CELL\n",
    "epochs = 3000\n",
    "\n",
    "#Training the models with GD, SGD or mini-batch GD\n",
    "### GD (lowest)\n",
    "batch_size = len(X_train)\n",
    "W_GD = logisticGD(X_train, Y_train, batch_size = batch_size, epochs = epochs, tol = 1e-5, l_rate = 0.001, plot_color='red', name=\"GD\")\n",
    "\n",
    "## SGD (highest)\n",
    "batch_size = 1\n",
    "W_SGD = logisticGD(X_train, Y_train, batch_size = batch_size, epochs = epochs, tol = 1e-5, l_rate = 0.001, plot_color='orange', name=\"SGD\")\n",
    "\n",
    "## Mini batch GD (middle)\n",
    "batch_size = X_train.shape[1] // 5\n",
    "W_MGD = logisticGD(X_train, Y_train, batch_size = batch_size, epochs = epochs, tol = 1e-5, l_rate = 0.001, plot_color='green', name=\"MGD\")"
   ]
  },
  {
   "cell_type": "code",
   "execution_count": 154,
   "metadata": {},
   "outputs": [
    {
     "name": "stdout",
     "output_type": "stream",
     "text": [
      "Training Accuracy GD: 0.85\n",
      "Test Accuracy GD: 0.7\n",
      "---\n",
      "Training Accuracy SGD: 0.8083333333333333\n",
      "Test Accuracy SGD: 0.7\n",
      "---\n",
      "Training Accuracy mini batch GD: 0.8583333333333333\n",
      "Test Accuracy mini batch GD: 0.7\n"
     ]
    }
   ],
   "source": [
    "# Calculate accuracy on the training set\n",
    "Y_train_pred = softmax(W_GD @ (X_train))\n",
    "train_predictions = np.argmax(Y_train_pred, axis=0)\n",
    "train_true = np.argmax(Y_train, axis = 0)\n",
    "train_accuracy = np.mean(train_predictions == train_true)\n",
    "print(\"Training Accuracy GD:\", train_accuracy)\n",
    "\n",
    "# Calculate accuracy on the test set\n",
    "Y_test_pred = softmax(W_GD @ (X_test))\n",
    "test_predictions = np.argmax(Y_test_pred, axis=0)\n",
    "test_true = np.argmax(Y_test, axis = 0)\n",
    "test_accuracy = np.mean(test_predictions == test_true)\n",
    "print(\"Test Accuracy GD:\", test_accuracy)\n",
    "\n",
    "print(\"---\")\n",
    "\n",
    "# Calculate accuracy on the training set\n",
    "Y_train_pred = softmax(W_SGD @ (X_train))\n",
    "train_predictions = np.argmax(Y_train_pred, axis=0)\n",
    "train_true = np.argmax(Y_train, axis = 0)\n",
    "train_accuracy = np.mean(train_predictions == train_true)\n",
    "print(\"Training Accuracy SGD:\", train_accuracy)\n",
    "\n",
    "# Calculate accuracy on the test set\n",
    "Y_test_pred = softmax(W_SGD @ (X_test))\n",
    "test_predictions = np.argmax(Y_test_pred, axis=0)\n",
    "test_true = np.argmax(Y_test, axis = 0)\n",
    "test_accuracy = np.mean(test_predictions == test_true)\n",
    "print(\"Test Accuracy SGD:\", test_accuracy)\n",
    "\n",
    "print(\"---\")\n",
    "\n",
    "# Calculate accuracy on the training set\n",
    "Y_train_pred = softmax(W_MGD @ (X_train))\n",
    "train_predictions = np.argmax(Y_train_pred, axis=0)\n",
    "train_true = np.argmax(Y_train, axis = 0)\n",
    "train_accuracy = np.mean(train_predictions == train_true)\n",
    "print(\"Training Accuracy mini batch GD:\", train_accuracy)\n",
    "\n",
    "# Calculate accuracy on the test set\n",
    "Y_test_pred = softmax(W_MGD @ (X_test))\n",
    "test_predictions = np.argmax(Y_test_pred, axis=0)\n",
    "test_true = np.argmax(Y_test, axis = 0)\n",
    "test_accuracy = np.mean(test_predictions == test_true)\n",
    "print(\"Test Accuracy mini batch GD:\", test_accuracy)"
   ]
  },
  {
   "cell_type": "code",
   "execution_count": null,
   "metadata": {},
   "outputs": [],
   "source": []
  },
  {
   "cell_type": "code",
   "execution_count": null,
   "metadata": {},
   "outputs": [],
   "source": []
  }
 ],
 "metadata": {
  "kernelspec": {
   "display_name": "Python 3 (ipykernel)",
   "language": "python",
   "name": "python3"
  },
  "language_info": {
   "codemirror_mode": {
    "name": "ipython",
    "version": 3
   },
   "file_extension": ".py",
   "mimetype": "text/x-python",
   "name": "python",
   "nbconvert_exporter": "python",
   "pygments_lexer": "ipython3",
   "version": "3.9.6"
  }
 },
 "nbformat": 4,
 "nbformat_minor": 2
}
