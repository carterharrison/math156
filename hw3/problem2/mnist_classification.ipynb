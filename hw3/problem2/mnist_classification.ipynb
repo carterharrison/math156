{
 "cells": [
  {
   "cell_type": "code",
   "execution_count": 1,
   "id": "acdaa78e",
   "metadata": {},
   "outputs": [],
   "source": [
    "import numpy as np\n",
    "import layers\n",
    "import activations\n",
    "import nn\n",
    "import losses\n",
    "import optimizers"
   ]
  },
  {
   "cell_type": "code",
   "execution_count": 2,
   "id": "748e870c",
   "metadata": {},
   "outputs": [
    {
     "name": "stdout",
     "output_type": "stream",
     "text": [
      "Epoch 0, Loss: 0.153977927106518\n",
      "Epoch 1, Loss: 0.09891156276505192\n",
      "Epoch 2, Loss: 0.0790508617668623\n",
      "Epoch 3, Loss: 0.060797593513465996\n",
      "Epoch 4, Loss: 0.05633497429365709\n",
      "Epoch 5, Loss: 0.03833476208238863\n",
      "Epoch 6, Loss: 0.05360197735833392\n",
      "Epoch 7, Loss: 0.04030343732572574\n",
      "Epoch 8, Loss: 0.02894380842133896\n",
      "Epoch 9, Loss: 0.03518075373603076\n",
      "Epoch 10, Loss: 0.02822633058933442\n",
      "Epoch 11, Loss: 0.03251047325408523\n",
      "Epoch 12, Loss: 0.02188928920666323\n",
      "Epoch 13, Loss: 0.018657301963000767\n",
      "Epoch 14, Loss: 0.021126030068642783\n",
      "Epoch 15, Loss: 0.014005472387898475\n",
      "Epoch 16, Loss: 0.016346548483221618\n",
      "Epoch 17, Loss: 0.013662706893098652\n",
      "Epoch 18, Loss: 0.012649716058915206\n",
      "Epoch 19, Loss: 0.011895178187796647\n",
      "Epoch 20, Loss: 0.012535148543577151\n",
      "Epoch 21, Loss: 0.011951787874805065\n",
      "Epoch 22, Loss: 0.011976143704433862\n",
      "Epoch 23, Loss: 0.008357668288227578\n",
      "Epoch 24, Loss: 0.00555870205727802\n",
      "Epoch 25, Loss: 0.008311973247504876\n",
      "Epoch 26, Loss: 0.01847050647946542\n",
      "Epoch 27, Loss: 0.005595790117081472\n",
      "Epoch 28, Loss: 0.006401257038386278\n",
      "Epoch 29, Loss: 0.005654889481869088\n",
      "Accuracy: 0.973\n"
     ]
    }
   ],
   "source": [
    "from tensorflow.keras.datasets import mnist\n",
    "import numpy as np\n",
    "\n",
    "# Load and preprocess the MNIST dataset\n",
    "(X_train, y_train), (X_test, y_test) = mnist.load_data()\n",
    "X_train = X_train.reshape(-1, 784) / 255.0\n",
    "X_test = X_test.reshape(-1, 784) / 255.0\n",
    "\n",
    "# Convert labels to one-hot encoded vectors\n",
    "def one_hot_encode(labels, num_classes):\n",
    "    num_samples = labels.shape[0]\n",
    "    encoded_labels = np.zeros((num_samples, num_classes))\n",
    "    for i in range(num_samples):\n",
    "        encoded_labels[i, labels[i]] = 1\n",
    "    return encoded_labels\n",
    "\n",
    "num_classes = 10\n",
    "y_train_one_hot = one_hot_encode(y_train, num_classes)\n",
    "y_test_one_hot = one_hot_encode(y_test, num_classes)\n",
    "\n",
    "\n",
    "# Create the model\n",
    "input_size = 784\n",
    "num_units = 128\n",
    "model = nn.Sequential()\n",
    "model.add(layers.InputLayer(input_shape=input_size))\n",
    "model.add(layers.Dense(input_size, num_units, activation=activations.Sigmoid, optimizer=optimizers.RMSprop))\n",
    "model.add(layers.Dense(num_units, num_classes, activation=activations.Softmax, optimizer=optimizers.RMSprop))\n",
    "\n",
    "# Train the model\n",
    "epochs = 30\n",
    "learning_rate = 0.01\n",
    "batch_size = 128\n",
    "model.train(X_train.T, y_train_one_hot.T, epochs, learning_rate, batch_size, loss=losses.Cross_Entropy)\n",
    "\n",
    "# Make predictions\n",
    "predictions = model.predict(X_test.T)\n",
    "\n",
    "# Convert predictions to class labels\n",
    "predicted_labels = np.argmax(predictions, axis=0)\n",
    "\n",
    "# Calculate accuracy\n",
    "accuracy = np.mean(predicted_labels == y_test)\n",
    "print(\"Accuracy:\", accuracy)"
   ]
  },
  {
   "cell_type": "code",
   "execution_count": null,
   "id": "ab9a11d1",
   "metadata": {},
   "outputs": [],
   "source": []
  }
 ],
 "metadata": {
  "kernelspec": {
   "display_name": "Python 3 (ipykernel)",
   "language": "python",
   "name": "python3"
  },
  "language_info": {
   "codemirror_mode": {
    "name": "ipython",
    "version": 3
   },
   "file_extension": ".py",
   "mimetype": "text/x-python",
   "name": "python",
   "nbconvert_exporter": "python",
   "pygments_lexer": "ipython3",
   "version": "3.9.6"
  }
 },
 "nbformat": 4,
 "nbformat_minor": 5
}
